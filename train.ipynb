{
 "cells": [
  {
   "cell_type": "code",
   "execution_count": 1,
   "metadata": {},
   "outputs": [],
   "source": [
    "import pandas as pd"
   ]
  },
  {
   "cell_type": "code",
   "execution_count": 7,
   "metadata": {},
   "outputs": [],
   "source": [
    "df = pd.read_csv(\"/home/hana/sonnh/kaggle-cassava/dataset/train_mix/mix.csv\")"
   ]
  },
  {
   "cell_type": "code",
   "execution_count": 18,
   "metadata": {},
   "outputs": [
    {
     "data": {
      "text/html": [
       "<div>\n",
       "<style scoped>\n",
       "    .dataframe tbody tr th:only-of-type {\n",
       "        vertical-align: middle;\n",
       "    }\n",
       "\n",
       "    .dataframe tbody tr th {\n",
       "        vertical-align: top;\n",
       "    }\n",
       "\n",
       "    .dataframe thead th {\n",
       "        text-align: right;\n",
       "    }\n",
       "</style>\n",
       "<table border=\"1\" class=\"dataframe\">\n",
       "  <thead>\n",
       "    <tr style=\"text-align: right;\">\n",
       "      <th></th>\n",
       "      <th>index</th>\n",
       "      <th>image_id</th>\n",
       "      <th>file</th>\n",
       "    </tr>\n",
       "    <tr>\n",
       "      <th>label</th>\n",
       "      <th></th>\n",
       "      <th></th>\n",
       "      <th></th>\n",
       "    </tr>\n",
       "  </thead>\n",
       "  <tbody>\n",
       "    <tr>\n",
       "      <th>0</th>\n",
       "      <td>1491</td>\n",
       "      <td>1491</td>\n",
       "      <td>1491</td>\n",
       "    </tr>\n",
       "    <tr>\n",
       "      <th>1</th>\n",
       "      <td>3476</td>\n",
       "      <td>3476</td>\n",
       "      <td>3476</td>\n",
       "    </tr>\n",
       "    <tr>\n",
       "      <th>2</th>\n",
       "      <td>3017</td>\n",
       "      <td>3017</td>\n",
       "      <td>3017</td>\n",
       "    </tr>\n",
       "    <tr>\n",
       "      <th>3</th>\n",
       "      <td>15462</td>\n",
       "      <td>15462</td>\n",
       "      <td>15462</td>\n",
       "    </tr>\n",
       "    <tr>\n",
       "      <th>4</th>\n",
       "      <td>2889</td>\n",
       "      <td>2889</td>\n",
       "      <td>2889</td>\n",
       "    </tr>\n",
       "  </tbody>\n",
       "</table>\n",
       "</div>"
      ],
      "text/plain": [
       "       index  image_id   file\n",
       "label                        \n",
       "0       1491      1491   1491\n",
       "1       3476      3476   3476\n",
       "2       3017      3017   3017\n",
       "3      15462     15462  15462\n",
       "4       2889      2889   2889"
      ]
     },
     "execution_count": 18,
     "metadata": {},
     "output_type": "execute_result"
    }
   ],
   "source": [
    "df.groupby('label').count()"
   ]
  },
  {
   "cell_type": "code",
   "execution_count": 26,
   "metadata": {},
   "outputs": [
    {
     "data": {
      "text/plain": [
       "[1.0, 0.43, 0.49, 0.1, 0.52]"
      ]
     },
     "execution_count": 26,
     "metadata": {},
     "output_type": "execute_result"
    }
   ],
   "source": [
    "[1491/1491, round(1491/3476, 2), round(1491/3017, 2), round(1491/15462, 2), round(1491/2889, 2)]"
   ]
  },
  {
   "cell_type": "code",
   "execution_count": null,
   "metadata": {
    "colab": {
     "base_uri": "https://localhost:8080/"
    },
    "executionInfo": {
     "elapsed": 659,
     "status": "ok",
     "timestamp": 1607450374465,
     "user": {
      "displayName": "Khiem Le",
      "photoUrl": "https://lh3.googleusercontent.com/a-/AOh14Gi6u8UbWxW4XU7gT19SUZgwH3r1Dga1WiTmx6Wl=s64",
      "userId": "12591067379254154195"
     },
     "user_tz": -420
    },
    "id": "mjbPmIt79nCy",
    "outputId": "d4e547a1-bcd4-4204-8ea4-eceaeb4ed155"
   },
   "outputs": [],
   "source": [
    "from google.colab import drive\n",
    "drive.mount(\"/content/gdrive\")\n",
    "root_path = \"/content/gdrive/My Drive/NFL/classification/\""
   ]
  },
  {
   "cell_type": "code",
   "execution_count": null,
   "metadata": {
    "colab": {
     "base_uri": "https://localhost:8080/"
    },
    "executionInfo": {
     "elapsed": 5916,
     "status": "ok",
     "timestamp": 1607450379730,
     "user": {
      "displayName": "Khiem Le",
      "photoUrl": "https://lh3.googleusercontent.com/a-/AOh14Gi6u8UbWxW4XU7gT19SUZgwH3r1Dga1WiTmx6Wl=s64",
      "userId": "12591067379254154195"
     },
     "user_tz": -420
    },
    "id": "V0Iv-hml9rgH",
    "outputId": "78ecc707-610c-4823-91cc-63e85e9ff8d4"
   },
   "outputs": [],
   "source": [
    "!pip install catalyst\n",
    "!pip install efficientnet_pytorch"
   ]
  },
  {
   "cell_type": "code",
   "execution_count": null,
   "metadata": {
    "executionInfo": {
     "elapsed": 7396,
     "status": "ok",
     "timestamp": 1607450381214,
     "user": {
      "displayName": "Khiem Le",
      "photoUrl": "https://lh3.googleusercontent.com/a-/AOh14Gi6u8UbWxW4XU7gT19SUZgwH3r1Dga1WiTmx6Wl=s64",
      "userId": "12591067379254154195"
     },
     "user_tz": -420
    },
    "id": "4VlO9K9c94oi"
   },
   "outputs": [],
   "source": [
    "import warnings\n",
    "warnings.filterwarnings(\"ignore\")\n",
    "\n",
    "import pandas as pd\n",
    "import torch\n",
    "import torch.nn as nn\n",
    "import torch.optim as optim\n",
    "import albumentations as A\n",
    "import albumentations.pytorch as AT\n",
    "from catalyst.data.sampler import BalanceClassSampler\n",
    "from data import HelmetDataset\n",
    "from efficientnet_pytorch import EfficientNet\n",
    "from losses import FocalBCEWithLogitsLoss\n",
    "from engines import trainer_augment"
   ]
  },
  {
   "cell_type": "code",
   "execution_count": null,
   "metadata": {
    "colab": {
     "base_uri": "https://localhost:8080/"
    },
    "executionInfo": {
     "elapsed": 7395,
     "status": "ok",
     "timestamp": 1607450381217,
     "user": {
      "displayName": "Khiem Le",
      "photoUrl": "https://lh3.googleusercontent.com/a-/AOh14Gi6u8UbWxW4XU7gT19SUZgwH3r1Dga1WiTmx6Wl=s64",
      "userId": "12591067379254154195"
     },
     "user_tz": -420
    },
    "id": "TX-FrvVa-hjQ",
    "outputId": "6f77b583-5e06-45d5-9a60-503e6ab782b5"
   },
   "outputs": [],
   "source": [
    "df = pd.read_csv(root_path + \"clf.csv\")\n",
    "folds = 5\n",
    "print(\"Folds: {}\\n\".format(folds))"
   ]
  },
  {
   "cell_type": "code",
   "execution_count": null,
   "metadata": {
    "executionInfo": {
     "elapsed": 7393,
     "status": "ok",
     "timestamp": 1607450381218,
     "user": {
      "displayName": "Khiem Le",
      "photoUrl": "https://lh3.googleusercontent.com/a-/AOh14Gi6u8UbWxW4XU7gT19SUZgwH3r1Dga1WiTmx6Wl=s64",
      "userId": "12591067379254154195"
     },
     "user_tz": -420
    },
    "id": "NRh7_d1U-XtN"
   },
   "outputs": [],
   "source": [
    "model_name = \"efficientnet-b4\"\n",
    "batch_size, num_workers = 128, 4\n",
    "start_epoch, total_epochs = 1, 30\n",
    "device, device_ids = torch.device(\"cuda:0\"), [0]"
   ]
  },
  {
   "cell_type": "code",
   "execution_count": null,
   "metadata": {
    "colab": {
     "base_uri": "https://localhost:8080/"
    },
    "executionInfo": {
     "elapsed": 4086205,
     "status": "ok",
     "timestamp": 1607454460032,
     "user": {
      "displayName": "Khiem Le",
      "photoUrl": "https://lh3.googleusercontent.com/a-/AOh14Gi6u8UbWxW4XU7gT19SUZgwH3r1Dga1WiTmx6Wl=s64",
      "userId": "12591067379254154195"
     },
     "user_tz": -420
    },
    "id": "ZZeFMwPTZ2mN",
    "outputId": "aefef1b1-ce22-42a0-b23d-5b49947baab5"
   },
   "outputs": [],
   "source": [
    "for fold in range(1, folds + 1):\n",
    "    head = \"fold {:2}/{:2}\".format(fold, folds)\n",
    "    print(head + \"\\n\" + \"-\"*(len(head)))\n",
    "\n",
    "    train_df = df[df[\"fold\"] != fold].reset_index(drop=True)\n",
    "    train_transform = A.Compose([\n",
    "        A.Resize(height=128, width=128),\n",
    "        A.IAAAffine(translate_percent=(-0.0625, 0.0625), rotate=(-180, 180), shear=(-10, 10), order=[0, 1]),\n",
    "        A.HorizontalFlip(),\n",
    "        A.RandomBrightnessContrast(),\n",
    "        A.HueSaturationValue(),\n",
    "        A.Normalize(),\n",
    "        AT.ToTensor()\n",
    "    ])\n",
    "    train_loader = torch.utils.data.DataLoader(\n",
    "        HelmetDataset(\n",
    "            df=train_df,\n",
    "            image_folder=root_path + \"images_100/\",\n",
    "            image_transform=train_transform\n",
    "        ),\n",
    "        batch_size=batch_size, num_workers=num_workers, drop_last=True,\n",
    "        sampler=BalanceClassSampler(list(train_df[\"binary_target\"].values), mode=\"downsampling\")\n",
    "    )\n",
    "\n",
    "    eval_df = df[df[\"fold\"] == fold].reset_index(drop=True)\n",
    "    eval_transform = A.Compose([\n",
    "        A.Resize(height=128, width=128),\n",
    "        A.Normalize(),\n",
    "        AT.ToTensor()\n",
    "    ])\n",
    "    eval_loader = torch.utils.data.DataLoader(\n",
    "        HelmetDataset(\n",
    "            df=eval_df,\n",
    "            image_folder=root_path + \"images_100/\",\n",
    "            image_transform=eval_transform\n",
    "        ),\n",
    "        batch_size=batch_size, num_workers=num_workers, drop_last=True\n",
    "    )\n",
    "\n",
    "    loaders = {\n",
    "        \"train\": train_loader,\n",
    "        \"eval\": eval_loader\n",
    "    }\n",
    "\n",
    "    augment_prob = 0.5\n",
    "\n",
    "    model = EfficientNet.from_pretrained(model_name)\n",
    "    model._fc = nn.Linear(model._fc.in_features, 1)\n",
    "    criterion = FocalBCEWithLogitsLoss(alpha=0.75, gamma=2)\n",
    "    optimizer = optim.Adam(model.parameters(), lr=1e-3)\n",
    "    lr_scheduler = optim.lr_scheduler.ReduceLROnPlateau(optimizer, mode=\"min\", factor=0.5, patience=3)\n",
    "\n",
    "    trainer_augment(loaders, augment_prob, model, criterion, optimizer, lr_scheduler, \n",
    "                    start_epoch, total_epochs, device, device_ids, save_path=root_path + \"checkpoints/{}_fold-{}.pt\".format(model_name, fold))"
   ]
  }
 ],
 "metadata": {
  "accelerator": "GPU",
  "colab": {
   "collapsed_sections": [],
   "name": "train_mixup.ipynb",
   "provenance": []
  },
  "kernelspec": {
   "display_name": "Python 3",
   "language": "python",
   "name": "python3"
  },
  "language_info": {
   "codemirror_mode": {
    "name": "ipython",
    "version": 3
   },
   "file_extension": ".py",
   "mimetype": "text/x-python",
   "name": "python",
   "nbconvert_exporter": "python",
   "pygments_lexer": "ipython3",
   "version": "3.7.5"
  }
 },
 "nbformat": 4,
 "nbformat_minor": 1
}
