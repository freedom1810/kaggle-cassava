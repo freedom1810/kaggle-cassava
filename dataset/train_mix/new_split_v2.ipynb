{
 "cells": [
  {
   "cell_type": "code",
   "execution_count": 1,
   "metadata": {},
   "outputs": [],
   "source": [
    "import pandas as pd\n",
    "import sklearn\n",
    "from sklearn.model_selection import StratifiedKFold\n",
    "\n"
   ]
  },
  {
   "cell_type": "code",
   "execution_count": 2,
   "metadata": {},
   "outputs": [],
   "source": [
    "def kfold(df = None, time_stamp = 20):\n",
    "    for label in [0, 1, 2, 3, 4]:\n",
    "        df_label = df[df['label'] == label]\n",
    "        \n",
    "        for i in range(len(df_label)//time_stamp):\n",
    "            if i == len(df_label)//time_stamp - 1:\n",
    "                df_stamp = df_label[i*time_stamp:]\n",
    "            else:\n",
    "                df_stamp = df_label[i*time_stamp: i*time_stamp + 20]\n",
    "            \n",
    "            skf = StratifiedKFold(n_splits=5, shuffle=True)\n",
    "            X = df_stamp['image_id']\n",
    "            Y = df_stamp['label']\n",
    "            fold = 0\n",
    "            for train_index, test_index in skf.split(X, Y):\n",
    "                fold += 1\n",
    "                # print(test_index)\n",
    "                X_test = X.iloc[test_index]\n",
    "                df.loc[df.image_id.isin(X_test), 'fold'] = fold\n",
    "#                 print(X_test)\n",
    "#                 print(df.image_id.isin(X_test))\n",
    "    return df "
   ]
  },
  {
   "cell_type": "code",
   "execution_count": 3,
   "metadata": {},
   "outputs": [],
   "source": [
    "df_new = pd.read_csv('new.csv')\n",
    "X = df_new['image_id']\n",
    "Y = df_new['label']\n",
    "df_new['fold'] = 0\n",
    "\n",
    "df_new = df_new.sort_values(by=['image_id'])"
   ]
  },
  {
   "cell_type": "code",
   "execution_count": 4,
   "metadata": {},
   "outputs": [],
   "source": [
    "df_new = kfold(df_new)"
   ]
  },
  {
   "cell_type": "code",
   "execution_count": 5,
   "metadata": {},
   "outputs": [
    {
     "data": {
      "text/plain": [
       "1    218\n",
       "5    217\n",
       "4    217\n",
       "3    217\n",
       "2    217\n",
       "Name: fold, dtype: int64"
      ]
     },
     "execution_count": 5,
     "metadata": {},
     "output_type": "execute_result"
    }
   ],
   "source": [
    "df_new[df_new['label'] == 0]['fold'][:].value_counts()"
   ]
  },
  {
   "cell_type": "code",
   "execution_count": 6,
   "metadata": {},
   "outputs": [],
   "source": [
    "# df = df_new\n",
    "# label = 0\n",
    "# time_stamp = 20\n",
    "# df_label = df[df['label'] == label]\n",
    "# len(df_label)//time_stamp"
   ]
  },
  {
   "cell_type": "code",
   "execution_count": 7,
   "metadata": {},
   "outputs": [],
   "source": [
    "# df_label[0:20]"
   ]
  },
  {
   "cell_type": "code",
   "execution_count": 8,
   "metadata": {},
   "outputs": [],
   "source": [
    "df_old = pd.read_csv('old.csv')\n",
    "X = df_old['image_id']\n",
    "Y = df_old['label']\n",
    "df_old['fold'] = 0\n",
    "\n",
    "df_old = df_old.sort_values(by=['image_id'])"
   ]
  },
  {
   "cell_type": "code",
   "execution_count": 9,
   "metadata": {},
   "outputs": [],
   "source": [
    "df_old = kfold(df_old)"
   ]
  },
  {
   "cell_type": "code",
   "execution_count": 10,
   "metadata": {},
   "outputs": [],
   "source": [
    "frames = [df_new, df_old]\n",
    "df_all = pd.concat(frames)\n",
    "df_all.to_csv('new_mix_v3.csv', index = False)"
   ]
  },
  {
   "cell_type": "code",
   "execution_count": 17,
   "metadata": {},
   "outputs": [],
   "source": [
    "# df = pd.read_csv('new_mix_v3.csv')\n",
    "df = pd.read_csv('/home/hana/sonnh/kaggle-cassava/dataset/train_mix/new_mix_1234.csv')"
   ]
  },
  {
   "cell_type": "code",
   "execution_count": 23,
   "metadata": {},
   "outputs": [
    {
     "data": {
      "text/plain": [
       "5    579\n",
       "3    578\n",
       "4    578\n",
       "1    577\n",
       "2    577\n",
       "Name: fold, dtype: int64"
      ]
     },
     "execution_count": 23,
     "metadata": {},
     "output_type": "execute_result"
    }
   ],
   "source": [
    "df[df['label'] == 4]['fold'].value_counts()"
   ]
  },
  {
   "cell_type": "code",
   "execution_count": null,
   "metadata": {},
   "outputs": [],
   "source": []
  }
 ],
 "metadata": {
  "kernelspec": {
   "display_name": "Python 3",
   "language": "python",
   "name": "python3"
  },
  "language_info": {
   "codemirror_mode": {
    "name": "ipython",
    "version": 3
   },
   "file_extension": ".py",
   "mimetype": "text/x-python",
   "name": "python",
   "nbconvert_exporter": "python",
   "pygments_lexer": "ipython3",
   "version": "3.6.9"
  }
 },
 "nbformat": 4,
 "nbformat_minor": 4
}
